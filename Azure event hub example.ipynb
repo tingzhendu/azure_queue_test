{
 "cells": [
  {
   "cell_type": "markdown",
   "metadata": {},
   "source": [
    "###  Let's write an example of concurrent write and read to a Azure event hubas an example"
   ]
  },
  {
   "cell_type": "markdown",
   "metadata": {},
   "source": [
    "It's very similar to Kafka. The official documentation have a comparasion between two different tech stacks in [here](https://docs.microsoft.com/en-us/azure/event-hubs/event-hubs-for-kafka-ecosystem-overview)"
   ]
  },
  {
   "cell_type": "markdown",
   "metadata": {},
   "source": [
    "### 1. Let's create a event hub cluster"
   ]
  },
  {
   "cell_type": "code",
   "execution_count": 1,
   "metadata": {},
   "outputs": [
    {
     "data": {
      "text/plain": [
       "<coroutine object EventHubProducerClient.send_batch at 0x7f62d13bcac0>"
      ]
     },
     "execution_count": 1,
     "metadata": {},
     "output_type": "execute_result"
    }
   ],
   "source": [
    "### Unfortuantely, event hub doesn't have a API to control the creation of a topic/namespace :(\n",
    "\n",
    "import asyncio\n",
    "from azure.eventhub.aio import EventHubProducerClient\n",
    "from azure.eventhub import EventData\n",
    "\n",
    "producer = EventHubProducerClient.from_connection_string(conn_str=os.getenv("THE KEY"), \n",
    "                                                             eventhub_name=\"myeventhub\")\n",
    "\n",
    "\n",
    "event_data_batch = await producer.create_batch()\n",
    "\n",
    "# Add events to the batch.\n",
    "event_data_batch.add(EventData('First event '))\n",
    "event_data_batch.add(EventData('Second event'))\n",
    "event_data_batch.add(EventData('Third event'))\n",
    "producer.send_batch(event_data_batch)\n"
   ]
  },
  {
   "cell_type": "markdown",
   "metadata": {},
   "source": [
    "### 2. Now let's create a consumer"
   ]
  },
  {
   "cell_type": "code",
   "execution_count": 2,
   "metadata": {},
   "outputs": [],
   "source": [
    "import asyncio\n",
    "from azure.eventhub.aio import EventHubConsumerClient\n",
    "from azure.eventhub.extensions.checkpointstoreblobaio import BlobCheckpointStore\n",
    "\n",
    "\n",
    "\n",
    "# The code is orginal from tutorial\n",
    "    \n",
    "async def on_event(partition_context, event):\n",
    "    # Print the event data.\n",
    "    print(\"Received the event: \\\"{}\\\" from the partition with ID: \\\"{}\\\"\".format(event.body_as_str(encoding='UTF-8'), partition_context.partition_id))\n",
    "\n",
    "    # Update the checkpoint so that the program doesn't read the events\n",
    "    # that it has already read when you run it next time.\n",
    "    await partition_context.update_checkpoint(event)\n",
    "\n",
    "async def main():\n",
    "    # Create an Azure blob checkpoint store to store the checkpoints.\n",
    "\n",
    "    # Create a consumer client for the event hub.\n",
    "    client = EventHubConsumerClient.from_connection_string(conn_str=os.getenv("THE KEY"), \n",
    "                                                           consumer_group=\"$Default\",  \n",
    "                                                           eventhub_name=\"myeventhub\")\n",
    "    \n",
    "    async with client:\n",
    "        # Call the receive method. Read from the beginning of the partition (starting_position: \"-1\")\n",
    "        await client.receive(on_event=on_event,  starting_position=\"-1\")\n",
    "\n",
    "if __name__ == '__main__':\n",
    "    # Jupyter is running in an eventloop. Tornado is using asyncio eventloop\n",
    "    loop = asyncio.get_event_loop()\n",
    "    # Run the main method.   \n",
    "    loop.create_task(main())"
   ]
  },
  {
   "cell_type": "code",
   "execution_count": null,
   "metadata": {},
   "outputs": [],
   "source": [
    "\n",
    "\n"
   ]
  }
 ],
 "metadata": {
  "kernelspec": {
   "display_name": "Python 3",
   "language": "python",
   "name": "python3"
  },
  "language_info": {
   "codemirror_mode": {
    "name": "ipython",
    "version": 3
   },
   "file_extension": ".py",
   "mimetype": "text/x-python",
   "name": "python",
   "nbconvert_exporter": "python",
   "pygments_lexer": "ipython3",
   "version": "3.8.2"
  }
 },
 "nbformat": 4,
 "nbformat_minor": 4
}
